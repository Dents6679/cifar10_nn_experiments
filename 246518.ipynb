{
  "cells": [
    {
      "cell_type": "markdown",
      "metadata": {
        "id": "BkCHccyuG_Kg"
      },
      "source": [
        "# Assignment overview <ignore>\n",
        "The overarching goal of this assignment is to produce a research report in which you implement, analyse, and discuss various Neural Network techniques. You will be guided through the process of producing this report, which will provide you with experience in report writing that will be useful in any research project you might be involved in later in life.\n",
        "\n",
        "All of your report, including code and Markdown/text, ***must*** be written up in ***this*** notebook. This is not typical for research, but is solely for the purpose of this assignment. Please make sure you change the title of this file so that XXXXXX is replaced by your candidate number. You can use code cells to write code to implement, train, test, and analyse your NNs, as well as to generate figures to plot data and the results of your experiments. You can use Markdown/text cells to describe and discuss the modelling choices you make, the methods you use, and the experiments you conduct. So that we can mark your reports with greater consistency, please ***do not***:\n",
        "\n",
        "* rearrange the sequence of cells in this notebook.\n",
        "* delete any cells, including the ones explaining what you need to do.\n",
        "\n",
        "If you want to add more code cells, for example to help organise the figures you want to show, then please add them directly after the code cells that have already been provided. \n",
        "\n",
        "Please provide verbose comments throughout your code so that it is easy for us to interpret what you are attempting to achieve with your code. Long comments are useful at the beginning of a block of code. Short comments, e.g. to explain the purpose of a new variable, or one of several steps in some analyses, are useful on every few lines of code, if not on every line. Please do not use the code cells for writing extensive sentences/paragraphs that should instead be in the Markdown/text cells."
      ]
    },
    {
      "cell_type": "markdown",
      "metadata": {
        "id": "HAAMLJvMBOnn"
      },
      "source": [
        "# Abstract/Introduction (instructions) - 15 MARKS <ignore>\n",
        "Use the next Markdown/text cell to write a short introduction to your report. This should include:\n",
        "* a brief description of the topic (image classification) and of the dataset being used (CIFAR10 dataset). (2 MARKS)\n",
        "* a brief description of how the CIFAR10 dataset has aided the development of neural network techniques, with examples. (3 MARKS)\n",
        "* a descriptive overview of what the goal of your report is, including what you investigated. (5 MARKS)\n",
        "* a summary of your major findings. (3 MARKS)\n",
        "* two or more relevant references. (2 MARKS)"
      ]
    },
    {
      "cell_type": "markdown",
      "metadata": {
        "id": "LjQqL_Xb5cH1"
      },
      "source": [
        "*Enter your abstract/introduction here*"
      ]
    },
    {
      "cell_type": "markdown",
      "metadata": {
        "id": "I5aTZVqp5uVv"
      },
      "source": [
        "# Methodology (instructions) - 55 MARKS <ignore>\n",
        "Use the next cells in this Methodology section to describe and demonstrate the details of what you did, in practice, for your research. Cite at least two academic papers that support your model choices. The overarching prinicple of writing the Methodology is to ***provide sufficient details for someone to replicate your model and to reproduce your results, without having to resort to your code***. You must include at least these components in the Methodology:\n",
        "* Data - Decribe the dataset, including how it is divided into training, validation, and test sets. Describe any pre-processing you perform on the data, and explain any advantages or disadvantages to your choice of pre-processing. \n",
        "* Architecture - Describe the architecture of your model, including all relevant hyperparameters. The architecture must include 3 convolutional layers followed by two fully connected layers. Include a figure with labels to illustrate the architecture.\n",
        "* Loss function - Describe the loss function(s) you are using, and explain any advantages or disadvantages there are with respect to the classification task.\n",
        "* Optimiser - Describe the optimiser(s) you are using, including its hyperparameters, and explain any advantages or disadvantages there are to using that optimser.\n",
        "* Experiments - Describe how you conducted each experiment, including any changes made to the baseline model that has already been described in the other Methodology sections. Explain the methods used for training the model and for assessing its performance on validation/test data.\n"
      ]
    },
    {
      "cell_type": "markdown",
      "metadata": {
        "id": "0ygcFzZZPRgB"
      },
      "source": [
        "## Data (7 MARKS) <ignore>"
      ]
    },
    {
      "cell_type": "markdown",
      "metadata": {},
      "source": [
        "*Describe the dataset and any pre-processing here*\n",
        "\n",
        "SD 1 MEAN 0"
      ]
    },
    {
      "cell_type": "markdown",
      "metadata": {
        "id": "BW5bfoqFlAkI"
      },
      "source": [
        "## Architecture (17 MARKS) <ignore>"
      ]
    },
    {
      "cell_type": "markdown",
      "metadata": {},
      "source": [
        "*Describe the architecture here*"
      ]
    },
    {
      "cell_type": "markdown",
      "metadata": {
        "id": "Og6OEUtIPT-P"
      },
      "source": [
        "## Loss function (3 MARKS) <ignore>"
      ]
    },
    {
      "cell_type": "markdown",
      "metadata": {},
      "source": [
        "*Describe the loss function here*"
      ]
    },
    {
      "cell_type": "markdown",
      "metadata": {
        "id": "Wh2Zgcj9PXAl"
      },
      "source": [
        "## Optimser (4 MARKS) <ignore>"
      ]
    },
    {
      "cell_type": "markdown",
      "metadata": {},
      "source": [
        "*Describe the optimiser here*"
      ]
    },
    {
      "cell_type": "markdown",
      "metadata": {
        "id": "4J8SM1rMyReN"
      },
      "source": [
        "## Experiments <ignore>\n",
        "### Experiment 1 (8 MARKS)"
      ]
    },
    {
      "cell_type": "markdown",
      "metadata": {},
      "source": [
        "*Describe how you went about conducting experiment 1 here*"
      ]
    },
    {
      "cell_type": "markdown",
      "metadata": {},
      "source": [
        "### Experiment 2 (8 MARKS) <ignore>"
      ]
    },
    {
      "cell_type": "markdown",
      "metadata": {},
      "source": [
        "*Describe how you went about conducting experiment 2 here*"
      ]
    },
    {
      "cell_type": "markdown",
      "metadata": {},
      "source": [
        "### Experiment 3 (8 MARKS) <ignore>"
      ]
    },
    {
      "cell_type": "markdown",
      "metadata": {},
      "source": [
        "*Describe how you went about conducting experiment 3 here*"
      ]
    },
    {
      "cell_type": "code",
      "execution_count": 1,
      "metadata": {},
      "outputs": [
        {
          "name": "stdout",
          "output_type": "stream",
          "text": [
            "Using device: cpu\n"
          ]
        }
      ],
      "source": [
        "############################################\n",
        "### Code for building the baseline model ###\n",
        "############################################\n",
        "\n",
        "###\n",
        "# Collecting imports and loading dataset.\n",
        "###\n",
        "\n",
        "import torch\n",
        "\n",
        "\n",
        "device = (\"cuda\" if torch.cuda.is_available() else \"cpu\")\n",
        "print(f\"Using device: {device}\")\n",
        "\n"
      ]
    },
    {
      "cell_type": "code",
      "execution_count": 4,
      "metadata": {},
      "outputs": [
        {
          "name": "stdout",
          "output_type": "stream",
          "text": [
            "Files already downloaded and verified\n",
            "Files already downloaded and verified\n",
            "Fetching one sample batch from test data.\n"
          ]
        }
      ],
      "source": [
        "###\n",
        "# Load and Normalise Dataset into batches\n",
        "###\n",
        "import torchvision.transforms as transforms\n",
        "import torchvision.datasets as datasets\n",
        "\n",
        "\n",
        "# Normalisation dict fn thing, taken from Lab 6's code to normalise CIFAR-10 dataset to mean 0, SD 1.\n",
        "transform = {\n",
        "    'train':transforms.Compose([\n",
        "        transforms.Resize(32),\n",
        "        transforms.RandomHorizontalFlip(),\n",
        "        transforms.ToTensor(),\n",
        "        transforms.Normalize([0.485, 0.456, 0.406], [0.229, 0.224, 0.225])\n",
        "    ]),\n",
        "    'test': transforms.Compose([\n",
        "        transforms.Resize(32),\n",
        "        transforms.ToTensor(),\n",
        "        transforms.Normalize([0.485, 0.456, 0.406], [0.229, 0.224, 0.225])\n",
        "    ]),\n",
        "}\n",
        "\n",
        "\n",
        "# Batch size to use in dataloaders\n",
        "BATCH_SIZE = 32\n",
        "\n",
        "\n",
        "# Fetch training dataset and normalise it.\n",
        "full_train_set = datasets.CIFAR10(root='./data', train=True, download=True, transform=transform['train'])\n",
        "\n",
        "# Don't create train loader here as dataset needs to be split in differnet ways for later experiemnts\n",
        "# train_loader = torch.utils.data.DataLoader(train_set, batch_size=BATCH_SIZE, shuffle=True, num_workers=2)\n",
        "\n",
        "\n",
        "\n",
        "# Create Testing Dataset\n",
        "test_set = datasets.CIFAR10(root='./data', train=False, download=True, transform=transform['test'])\n",
        "# Create Testing dataloader\n",
        "test_loader = torch.utils.data.DataLoader(test_set, batch_size=BATCH_SIZE, shuffle=False, num_workers=2)\n",
        "\n",
        "\n",
        "\n",
        "\n",
        "# fetch a batch of images and labels for testing (not the NN kind, the mess about to see if things are working kind)\n",
        "print(\"Fetching one sample batch from test data.\")\n",
        "dataiter = iter(test_loader)\n",
        "sample_images, sample_labels = next(dataiter)\n",
        "\n",
        "\n",
        "\n",
        "\n",
        "# Define Classes\n",
        "classes = ('plane', 'car', 'bird', 'cat', 'deer', 'dog', 'frog', 'horse', 'ship', 'truck')\n",
        "\n",
        "\n",
        "# Create class to ID mapping\n",
        "id2classes = {idx:clss for idx, clss in enumerate(classes)}\n",
        "\n",
        "# Create ID to class mapping\n",
        "classes2id = {clss:idx for idx,clss in id2classes.items()}\n"
      ]
    },
    {
      "cell_type": "code",
      "execution_count": 5,
      "metadata": {},
      "outputs": [
        {
          "data": {
            "image/png": "[encoded data removed]",
            "text/plain": [
              "<Figure size 200x200 with 1 Axes>"
            ]
          },
          "metadata": {},
          "output_type": "display_data"
        }
      ],
      "source": [
        "###\n",
        "# Handy functions for later\n",
        "###\n",
        "import numpy as np\n",
        "import matplotlib.pyplot as plt\n",
        "\n",
        "\n",
        "\n",
        "def imshow(inp, title=None):\n",
        "    \"\"\"\n",
        "    Shows an image from a Tensor representation.\n",
        "    Taken from Lab 6 work\n",
        "    \"\"\"\n",
        "    inp = inp.numpy().transpose((1, 2, 0))\n",
        "    mean = np.array([0.485, 0.456, 0.406])\n",
        "    std = np.array([0.229, 0.224, 0.225])\n",
        "    inp = std * inp + mean\n",
        "    inp = np.clip(inp, 0, 1)\n",
        "    plt.figure(figsize=(2, 2))\n",
        "    plt.imshow(inp)\n",
        "    if title is not None:\n",
        "        plt.title(title)\n",
        "    plt.pause(0.001)  # pause a bit so that plots are updated\n",
        "\n",
        "\n",
        "\n",
        "imshow(sample_images[1], id2classes[int(sample_labels[1])])"
      ]
    },
    {
      "cell_type": "code",
      "execution_count": 6,
      "metadata": {},
      "outputs": [],
      "source": [
        "###\n",
        "# Create the Network itsself\n",
        "###\n",
        "\n",
        "import torch.nn as nn\n",
        "import torch.nn.functional as F\n",
        "\n",
        "class BaselineNetwork(nn.Module):\n",
        "    \n",
        "\n",
        "    def __init__(self):\n",
        "        \"\"\"\n",
        "            Creates the network.\n",
        "        \"\"\"\n",
        "        super().__init__()\n",
        "        # Create first cnn layer\n",
        "        self.conv1 = nn.Conv2d(in_channels=3, out_channels=16, kernel_size=3, stride=1, padding=0) \n",
        "        # Create second cnn layer\n",
        "        self.conv2 = nn.Conv2d(in_channels=16, out_channels=32, kernel_size=3, stride=1, padding=1)\n",
        "        # Create third cnn layer\n",
        "        self.conv3 = nn.Conv2d(in_channels=32, out_channels=48, kernel_size=3, stride=1, padding=1)\n",
        "\n",
        "        # Create pooling layer used throughout\n",
        "        self.pool = nn.MaxPool2d(kernel_size=2, stride=2) # Pooling layer to downsample representations.\n",
        "\n",
        "        # Create first linear layer\n",
        "        self.fc1 = nn.Linear(in_features=48*3*3, out_features=160)\n",
        "        # Create second linear layer\n",
        "        self.fc2 = nn.Linear(in_features=160, out_features=10)\n",
        "\n",
        "\n",
        "    def forward(self, x):\n",
        "        \"\"\"\n",
        "            Performs a forward pass of a batch / instance\n",
        "        \"\"\"\n",
        "        # ---- Convolution Layers ----\n",
        "        # First CNN layer\n",
        "        x = self.pool(F.relu(self.conv1(x)))\n",
        "        # Second CNN layer\n",
        "        x = self.pool(F.relu(self.conv2(x))) \n",
        "        # Third CNN layer\n",
        "        x = self.pool(F.relu(self.conv3(x)))\n",
        "\n",
        "        # ---- Linear Layers ----\n",
        "        # Flatten to use in Linear Layers\n",
        "        x = x.view(-1, 48*3*3)\n",
        "        # First Linear Layer\n",
        "        x = F.relu(self.fc1(x))\n",
        "        # Second Linear Layer. Doesn't use an activation\n",
        "        x = self.fc2(x)\n",
        "        # No softmax function is used here as loss fn handles it.\n",
        "        \n",
        "        # Return results\n",
        "        return x\n",
        "\n",
        "    \n",
        "\n"
      ]
    },
    {
      "cell_type": "code",
      "execution_count": 10,
      "metadata": {},
      "outputs": [
        {
          "name": "stdout",
          "output_type": "stream",
          "text": [
            "Batch size: 32\n",
            "x0 shape is: torch.Size([32, 3, 32, 32])\n",
            "x1 shape is: torch.Size([32, 16, 30, 30])\n",
            "x2 shape is: torch.Size([32, 16, 15, 15])\n",
            "x3 shape is: torch.Size([32, 32, 15, 15])\n",
            "x4 shape is: torch.Size([32, 32, 7, 7])\n",
            "x5 shape is: torch.Size([32, 48, 7, 7])\n",
            "x6 shape is: torch.Size([32, 48, 3, 3])\n",
            "x7 shape is: torch.Size([32, 432])\n",
            "x8 shape is: torch.Size([32, 160])\n",
            "x9 shape is: torch.Size([32, 10])\n"
          ]
        }
      ],
      "source": [
        "##\n",
        "# Code Testing CNN's layer sizes are correct, mainly just to validate the model is actually built correctly.\n",
        "##\n",
        "\n",
        "test_net = BaselineNetwork()\n",
        "\n",
        "print(f\"Batch size: {len(sample_images)}\")\n",
        "\n",
        "x0 = sample_images\n",
        "print(f\"x0 shape is: {x0.shape}\")\n",
        "x1 = F.relu(test_net.conv1(x0))\n",
        "print(f\"x1 shape is: {x1.shape}\")\n",
        "x2 = test_net.pool(x1)\n",
        "print(f\"x2 shape is: {x2.shape}\")\n",
        "x3 = F.relu(test_net.conv2(x2))\n",
        "print(f\"x3 shape is: {x3.shape}\")\n",
        "x4 = test_net.pool(x3)\n",
        "print(f\"x4 shape is: {x4.shape}\")\n",
        "x5 = F.relu(test_net.conv3(x4))\n",
        "print(f\"x5 shape is: {x5.shape}\")\n",
        "x6 = test_net.pool(x5)\n",
        "print(f\"x6 shape is: {x6.shape}\")\n",
        "x7 = x6.view(-1, 48*3*3)\n",
        "print(f\"x7 shape is: {x7.shape}\")\n",
        "x8 = F.relu(test_net.fc1(x7))\n",
        "print(f\"x8 shape is: {x8.shape}\")\n",
        "x9 = F.relu(test_net.fc2(x8))\n",
        "print(f\"x9 shape is: {x9.shape}\")\n",
        "\n",
        "pred_logits = test_net.forward(sample_images)\n",
        "assert list(pred_logits.shape) == [32, 10], \"Network does not output expected logits.\"\n",
        "\n",
        "del [test_net, pred_logits, x0, x1, x2, x3, x4, x5, x6, x7, x8, x9]"
      ]
    },
    {
      "cell_type": "markdown",
      "metadata": {
        "id": "4l4idTCtPfbc"
      },
      "source": [
        "# Results (instructions) - 55 MARKS <ignore>\n",
        "Use the Results section to summarise your findings from the experiments. For each experiment, use the Markdown/text cell to describe and explain your results, and use the code cell (and additional code cells if necessary) to conduct the experiment and produce figures to show your results."
      ]
    },
    {
      "cell_type": "markdown",
      "metadata": {
        "id": "batSfx6_oUOk"
      },
      "source": [
        "### Experiment 1 (17 MARKS) <ignore>"
      ]
    },
    {
      "cell_type": "markdown",
      "metadata": {},
      "source": [
        "*Write up results for Experiment 1 here*"
      ]
    },
    {
      "cell_type": "code",
      "execution_count": 16,
      "metadata": {
        "id": "BiBjSG9ioDPR"
      },
      "outputs": [
        {
          "ename": "SyntaxError",
          "evalue": "invalid syntax (3646559868.py, line 99)",
          "output_type": "error",
          "traceback": [
            "\u001b[1;36m  Cell \u001b[1;32mIn[16], line 99\u001b[1;36m\u001b[0m\n\u001b[1;33m    epoch_accuracy =\u001b[0m\n\u001b[1;37m                      ^\u001b[0m\n\u001b[1;31mSyntaxError\u001b[0m\u001b[1;31m:\u001b[0m invalid syntax\n"
          ]
        }
      ],
      "source": [
        "#############################\n",
        "### Code for Experiment 1 ###\n",
        "#############################\n",
        "\n",
        "import random \n",
        "\n",
        "##\n",
        "# Splitting training data into subsets of training and validation subsets using 80:20 ratio.\n",
        "##\n",
        "\n",
        "def exp1_create_train_val_split(seed):\n",
        "    \"\"\"\n",
        "    Creates a train/validation split of 80:20 for experiment 1. \n",
        "    Split is randomised based on a provided seed.\n",
        "\n",
        "    Arguments:\n",
        "        seed: the seed to use for the splitter\n",
        "    \n",
        "    Returns:\n",
        "        Tuple of training dataloader and validation dataloader\n",
        "    \"\"\"\n",
        "    \n",
        "    # Create generator from provided seed\n",
        "    generator = torch.Generator().manual_seed(seed)\n",
        "    \n",
        "    # Split larger training dataset into a training subset and validation subset.\n",
        "    train_subset, val_subset = torch.utils.data.random_split(full_train_set, [0.8, 0.2], generator)\n",
        "    \n",
        "    # Create dataloader for the training subset\n",
        "    train_sub_loader = torch.utils.data.DataLoader(train_subset, batch_size=BATCH_SIZE, shuffle=True, num_workers=2)\n",
        "    # Create dataloader for validation subset.\n",
        "    val_sub_loader = torch.utils.data.DataLoader(val_subset, batch_size=BATCH_SIZE, shuffle=True, num_workers=2)\n",
        "    \n",
        "    # return the two\n",
        "    return train_sub_loader, val_sub_loader\n",
        "\n",
        "\n",
        "\n",
        "def exp1_train(model, dataloader, loss_fn, optimizer, device):\n",
        "    \"\"\"Train Experiment 1's model on a single pass through the dataloader.\n",
        "\n",
        "    Args:\n",
        "        model: The model to perform the epoch on\n",
        "        dataloader: The dataloader to use.\n",
        "        loss_fn: The loss Criterion to use.\n",
        "        optimizer: the optimizer to use, this is set up with the experiment's learning rate.\n",
        "        device: The device to train on.\n",
        "    \n",
        "    Returns:\n",
        "        model: The updated model.\n",
        "        all_train_true_labels: the true training labels from all batches for this epoch.\n",
        "        all_train_predicted_labels: the predicted training labels from all batches for this epoch.\n",
        "        average_batch_loss: the average training loss over all of the batches for this epoch. \n",
        "        \n",
        "\n",
        "    \"\"\"\n",
        "\n",
        "    \n",
        "    # Put model into training mode\n",
        "    model.train()\n",
        "\n",
        "    # Create loss tracking variable\n",
        "    running_loss = 0\n",
        "\n",
        "    # Create prediction tracking lists\n",
        "    all_train_predicted_labels = []\n",
        "    all_train_true_labels = []\n",
        "\n",
        "\n",
        "    # For each batch in the dataloader...\n",
        "    for _, data in enumerate(dataloader,0):\n",
        "        \n",
        "        # Get model inputs, data is a list of [inputs, labels]\n",
        "        inputs, labels = data\n",
        "        \n",
        "        # Accumulate true labels from this batch into all true labels list\n",
        "        all_train_true_labels.extend(labels.tolist())\n",
        "\n",
        "        # transfer input and labels over to device.\n",
        "        inputs = inputs.to(device)\n",
        "        labels = labels.to(device)\n",
        "\n",
        "        # Zero the parameter gradients.\n",
        "        optimizer.zero_grad()\n",
        "\n",
        "        # Perform a forward pass.\n",
        "        outputs = model(inputs)\n",
        "\n",
        "        # Get predicted labels for each item in batch\n",
        "        _, batch_train_predicted_labels = torch.max(outputs, 1)\n",
        "        # Accumulate predicted labels from this batch into all predictions list\n",
        "        all_train_predicted_labels.extend(batch_train_predicted_labels.tolist())\n",
        "        \n",
        "\n",
        "\n",
        "        \n",
        "        # Get this batches loss\n",
        "        loss = loss_fn(outputs, labels)\n",
        "        # Calculate updated gradients\n",
        "        loss.backward()\n",
        "        # Perform network Optimisation\n",
        "        optimizer.step()\n",
        "\n",
        "        # get Loss statistics and update running total\n",
        "        current_loss = loss.item()\n",
        "        running_loss += current_loss\n",
        "\n",
        "    # calculate the average batch loss over this epoch.\n",
        "    average_batch_loss = running_loss / len(dataloader)\n",
        "\n",
        "    return model, all_train_true_labels, all_train_predicted_labels, average_batch_loss\n",
        "\n",
        "\n",
        "\n",
        "def exp1_evaluate(model, dataloader, loss_fn, device):\n",
        "    \"\"\"\n",
        "    Evaluate Experiment 1's model through one pass of the dataloader.\n",
        "\n",
        "    Args:\n",
        "        model: The model to evaluate\n",
        "        dataloader: The dataloader to evaluate the model on\n",
        "        loss_fn: The loss function to use\n",
        "        device: The device to perform the evaluation on.\n",
        "\n",
        "    Returns:\n",
        "        model: The model after evaluation\n",
        "        all_val_true_labels: All of the true labels from the batches in this epoch.\n",
        "        all_val_predicted_labels: All of the predicted labels from the batches in this epoch.\n",
        "        average_batch_loss: The average validation loss over all of the batches in the epoch.\n",
        "    \"\"\"\n",
        "\n",
        "\n",
        "    \n",
        "    # Put model into evaluation mode\n",
        "    model.eval()\n",
        "\n",
        "    # Create loss tracking variable\n",
        "    running_loss = 0\n",
        "\n",
        "    # Create prediction tracking lists\n",
        "    all_val_true_labels = []\n",
        "    all_val_predicted_labels = []\n",
        "\n",
        "\n",
        "    # don't worry about gradients during validation  \n",
        "    with torch.no_grad:\n",
        "\n",
        "        #over all batches...\n",
        "        for _, data in enumerate(dataloader, 0):\n",
        "            \n",
        "            # Get the model inputs and labels of this batch\n",
        "            inputs, labels = data\n",
        "\n",
        "            # Accumulate the true labels of this batch into the all true values list\n",
        "            all_val_true_labels.extend(labels.tolist())\n",
        "\n",
        "            # move inputs and labels over to device.\n",
        "            inputs = inputs.to(device)\n",
        "            labels = labels.to(device)\n",
        "\n",
        "            # Perform a forward pass.\n",
        "            outputs = model(inputs)\n",
        "\n",
        "            # Get predicted labels for each item in batch\n",
        "            _, batch_val_predicted_labels = torch.max(outputs, 1)\n",
        "            # Accumulate predicted labels from this batch into all predictions list\n",
        "            all_val_predicted_labels.extend(batch_val_predicted_labels.tolist())\n",
        "\n",
        "            #calculate this batches loss\n",
        "            loss = loss_fn(outputs, labels)\n",
        "            current_loss = loss.item()\n",
        "\n",
        "            running_loss += current_loss\n",
        "\n",
        "    # calculate the average loss over every batch.\n",
        "    average_batch_loss = running_loss / len(dataloader)\n",
        "\n",
        "    return model, all_val_true_labels, all_val_predicted_labels, average_batch_loss\n",
        "\n",
        "\n",
        "def do_experiment():\n",
        "    opti\n",
        "    \n",
        "# Keep using the GPT2 Task 1 colab notebook, it's so damn helpful.\n",
        "\n",
        "\n",
        "\n"
      ]
    },
    {
      "cell_type": "code",
      "execution_count": 15,
      "metadata": {},
      "outputs": [
        {
          "name": "stderr",
          "output_type": "stream",
          "text": [
            "Progress through 5 averaging loops: 100%|██████████| 5/5 [00:02<00:00,  1.98it/s]\n",
            "Progress through 5 averaging loops: 100%|██████████| 5/5 [00:02<00:00,  1.99it/s]\n",
            "Progress through 5 averaging loops: 100%|██████████| 5/5 [00:02<00:00,  1.99it/s]\n",
            "Progress through 5 averaging loops: 100%|██████████| 5/5 [00:02<00:00,  1.98it/s]\n",
            "Progress through 5 averaging loops: 100%|██████████| 5/5 [00:02<00:00,  1.99it/s]\n",
            "Progress through learning rates: 100%|██████████| 5/5 [00:12<00:00,  2.52s/it]\n"
          ]
        }
      ],
      "source": [
        "###\n",
        "# Main Experiment Loop.\n",
        "###\n",
        "\n",
        "from tqdm import tqdm\n",
        "import torch.optim as optim\n",
        "\n",
        "\n",
        "# define learning rates to test\n",
        "learning_rates = [1e-1, 1e-2, 1e-3, 1e-4, 0]\n",
        "\n",
        "\n",
        "# iterate over each learning rate.\n",
        "for lr in tqdm(learning_rates, desc=\"Progress through learning rates\"):\n",
        "    # iterate over 5 different sets of training/validation data.\n",
        "    for test_idx in tqdm(range(5), desc=\"Progress through 5 averaging loops\"):\n",
        "        \n",
        "        # Randomise seed for each iteration\n",
        "        random_seed = random.randint(0, 1000)\n",
        "        \n",
        "        # Create dataloaders for training and validation subsets,\n",
        "        exp1_train_loader, exp1_val_loader = exp1_create_train_val_split(random_seed)\n",
        "        \n",
        "        model = BaselineNetwork()\n",
        "        \n",
        "        # Define loss criteria - using cross entropy loss as this is multi-class classificaiton problem.\n",
        "        criterion = nn.CrossEntropyLoss()\n",
        "\n",
        "        # Create optimizer. Optimizer \n",
        "        optimizer = optimizer.SGD(BaselineNetwork.parameters(), lr=lr) \n",
        "\n",
        "        for i, data in enumerate(exp1_train_loader, 0):\n",
        "            \n",
        "            inputs, labels = data\n",
        "\n",
        "            # zero the parameter gradients\n",
        "            optimizer.zero_grad()\n",
        "\n",
        "        \n",
        "\n"
      ]
    },
    {
      "cell_type": "code",
      "execution_count": null,
      "metadata": {},
      "outputs": [],
      "source": [
        "###\n",
        "# Scheduler Experiment Loop\n",
        "###"
      ]
    },
    {
      "cell_type": "markdown",
      "metadata": {
        "id": "TqW3G7sRokZt"
      },
      "source": [
        "### Experiment 2 (19 MARKS) <ignore>"
      ]
    },
    {
      "cell_type": "markdown",
      "metadata": {},
      "source": [
        "*Write up results for Experiment 2 here*"
      ]
    },
    {
      "cell_type": "code",
      "execution_count": 2,
      "metadata": {},
      "outputs": [],
      "source": [
        "#############################\n",
        "### Code for Experiment 2 ###\n",
        "#############################"
      ]
    },
    {
      "cell_type": "markdown",
      "metadata": {},
      "source": [
        "### Experiment 3 (19 MARKS) <ignore>"
      ]
    },
    {
      "cell_type": "markdown",
      "metadata": {},
      "source": [
        "*Write up results for Experiment 3 here*"
      ]
    },
    {
      "cell_type": "code",
      "execution_count": null,
      "metadata": {
        "id": "HAaa3uOcoQ1W"
      },
      "outputs": [],
      "source": [
        "#############################\n",
        "### Code for Experiment 3 ###\n",
        "#############################"
      ]
    },
    {
      "cell_type": "markdown",
      "metadata": {
        "id": "_pRSqHgx0tvD"
      },
      "source": [
        "# Conclusions and Discussion (instructions) - 25 MARKS <ignore>\n",
        "In this section, you are expected to:\n",
        "* briefly summarise and describe the conclusions from your experiments (8 MARKS).\n",
        "* discuss whether or not your results are expected, providing scientific reasons (8 MARKS).\n",
        "* discuss two or more alternative/additional methods that may enhance your model, with scientific reasons (4 MARKS). \n",
        "* Reference two or more relevant academic publications that support your discussion. (4 MARKS)"
      ]
    },
    {
      "cell_type": "markdown",
      "metadata": {
        "id": "v02f4sbyPuLh"
      },
      "source": [
        "*Write your Conclusions/Discussion here*"
      ]
    },
    {
      "cell_type": "markdown",
      "metadata": {},
      "source": [
        "# References (instructions) <ignore>\n",
        "Use the cell below to add your references. A good format to use for references is like this:\n",
        "\n",
        "[AB Name], [CD Name], [EF Name] ([year]), [Article title], [Journal/Conference Name] [volume], [page numbers] or [article number] or [doi]\n",
        "\n",
        "Some examples:\n",
        "\n",
        "JEM Bennett, A Phillipides, T Nowotny (2021), Learning with reinforcement prediction errors in a model of the Drosophila mushroom body, Nat. Comms 12:2569, doi: 10.1038/s41467-021-22592-4\n",
        "\n",
        "SO Kaba, AK Mondal, Y Zhang, Y Bengio, S Ravanbakhsh (2023), Proc. 40th Int. Conf. Machine Learning, 15546-15566"
      ]
    },
    {
      "cell_type": "markdown",
      "metadata": {},
      "source": [
        "*List your references here*"
      ]
    }
  ],
  "metadata": {
    "colab": {
      "provenance": []
    },
    "kernelspec": {
      "display_name": "Python 3",
      "name": "python3"
    },
    "language_info": {
      "codemirror_mode": {
        "name": "ipython",
        "version": 3
      },
      "file_extension": ".py",
      "mimetype": "text/x-python",
      "name": "python",
      "nbconvert_exporter": "python",
      "pygments_lexer": "ipython3",
      "version": "3.11.9"
    }
  },
  "nbformat": 4,
  "nbformat_minor": 0
}
